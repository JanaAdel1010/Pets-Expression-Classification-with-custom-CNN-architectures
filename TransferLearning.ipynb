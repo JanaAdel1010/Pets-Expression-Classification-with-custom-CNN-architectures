{
 "cells": [
  {
   "cell_type": "code",
   "execution_count": null,
   "id": "c74810b2",
   "metadata": {},
   "outputs": [],
   "source": [
    "import torch\n",
    "import torch.nn as nn\n",
    "import torch.optim as optim\n",
    "from torchvision import models, transforms\n",
    "from torch.utils.data import DataLoader\n",
    "from utils.dataset import get_dataloaders \n",
    "from utils.metrics import evaluate_model     \n",
    "\n",
    "import matplotlib.pyplot as plt\n",
    "import seaborn as sns"
   ]
  },
  {
   "cell_type": "code",
   "execution_count": null,
   "id": "5b263902",
   "metadata": {},
   "outputs": [],
   "source": [
    "device = torch.device('cuda' if torch.cuda.is_available() else 'cpu')\n",
    "data_dir = r'Pets\\Master Folder'\n",
    "train_loader, val_loader, class_names = get_dataloaders(data_dir)\n",
    "num_classes = len(class_names)"
   ]
  },
  {
   "cell_type": "code",
   "execution_count": null,
   "id": "7c999155",
   "metadata": {},
   "outputs": [],
   "source": [
    "def get_best_model_name(log_file=\"best_models_log.txt\"):\n",
    "    best_model = None\n",
    "    best_acc = 0.0\n",
    "    with open(log_file, \"r\") as f:\n",
    "        for line in f:\n",
    "            name, acc = line.strip().split(\",\")\n",
    "            acc = float(acc)\n",
    "            if acc > best_acc:\n",
    "                best_acc = acc\n",
    "                best_model = name\n",
    "    return best_model\n",
    "best_model_name = get_best_model_name()\n",
    "print(\" Best model from previous training:\", best_model_name)"
   ]
  },
  {
   "cell_type": "code",
   "execution_count": null,
   "id": "438825b2",
   "metadata": {},
   "outputs": [],
   "source": [
    "def get_pretrained_model(name, num_classes):\n",
    "    if name == 'resnet':\n",
    "        model = models.resnet18(pretrained=True)\n",
    "        # Freeze all layers\n",
    "        for param in model.parameters():\n",
    "            param.requires_grad = False\n",
    "        # Replace the last fc layer\n",
    "        model.fc = nn.Linear(model.fc.in_features, num_classes)\n",
    "    elif name == 'mobilenet':\n",
    "        model = models.mobilenet_v2(pretrained=True)\n",
    "        for param in model.parameters():\n",
    "            param.requires_grad = False\n",
    "        model.classifier[1] = nn.Linear(model.classifier[1].in_features, num_classes)\n",
    "    elif name == 'vgg':\n",
    "        model = models.vgg16(pretrained=True)\n",
    "        for param in model.parameters():\n",
    "            param.requires_grad = False\n",
    "        model.classifier[6] = nn.Linear(model.classifier[6].in_features, num_classes)\n",
    "    elif name == 'densenet':\n",
    "        model = models.densenet121(pretrained=True)\n",
    "        for param in model.parameters():\n",
    "            param.requires_grad = False\n",
    "        model.classifier = nn.Linear(model.classifier.in_features, num_classes)\n",
    "    elif name == 'inception':\n",
    "        model = models.inception_v3(pretrained=True)\n",
    "        for param in model.parameters():\n",
    "            param.requires_grad = False\n",
    "        model.fc = nn.Linear(model.fc.in_features, num_classes)\n",
    "    else:\n",
    "        raise ValueError(f\"Unknown model name: {name}\")\n",
    "\n",
    "    return model.to(device)"
   ]
  },
  {
   "cell_type": "code",
   "execution_count": null,
   "id": "5be0fce0",
   "metadata": {},
   "outputs": [],
   "source": [
    "model = get_pretrained_model(best_model_name, num_classes)\n",
    "criterion = nn.CrossEntropyLoss()\n",
    "optimizer = optim.Adam(filter(lambda p: p.requires_grad, model.parameters()), lr=1e-3)\n",
    "scheduler = optim.lr_scheduler.StepLR(optimizer, step_size=5, gamma=0.1)"
   ]
  },
  {
   "cell_type": "code",
   "execution_count": null,
   "id": "b45de8ac",
   "metadata": {},
   "outputs": [],
   "source": [
    "epochs = 10\n",
    "best_acc = 0.0\n",
    "train_losses = []\n",
    "val_accuracies = []\n",
    "\n",
    "for epoch in range(epochs):\n",
    "    model.train()\n",
    "    running_loss = 0.0\n",
    "\n",
    "    for imgs, labels in train_loader:\n",
    "        imgs, labels = imgs.to(device), labels.to(device)\n",
    "\n",
    "        optimizer.zero_grad()\n",
    "        outputs = model(imgs)\n",
    "        loss = criterion(outputs, labels)\n",
    "        loss.backward()\n",
    "        optimizer.step()\n",
    "\n",
    "        running_loss += loss.item()\n",
    "\n",
    "    avg_loss = running_loss / len(train_loader)\n",
    "    train_losses.append(avg_loss)\n",
    "\n",
    "    print(f\"\\nEpoch [{epoch+1}/{epochs}] - Training Loss: {avg_loss:.4f}\")\n",
    "\n",
    "    # Evaluate on validation set\n",
    "    report, accuracy, matrix = evaluate_model(model, val_loader, device, class_names)\n",
    "    val_accuracies.append(accuracy)\n",
    "\n",
    "    print(\"\\nValidation Classification Report:\\n\", report)\n",
    "    print(\"\\nConfusion Matrix:\\n\", matrix)\n",
    "\n",
    "    if accuracy > best_acc:\n",
    "        best_acc = accuracy\n",
    "        torch.save(model.state_dict(), f'transfer_best_model_{best_model_name}.pth')\n",
    "        print(f\"New best transfer model saved (Accuracy: {best_acc:.4f})\")\n",
    "\n",
    "    scheduler.step()"
   ]
  },
  {
   "cell_type": "code",
   "execution_count": null,
   "id": "961b7a3d",
   "metadata": {},
   "outputs": [],
   "source": [
    "def plot_confusion_matrix(cm, class_names, title):\n",
    "    plt.figure(figsize=(8, 6))\n",
    "    sns.heatmap(cm, annot=True, fmt='d', cmap='Blues',\n",
    "                xticklabels=class_names, yticklabels=class_names)\n",
    "    plt.title(f'Confusion Matrix - {title}')\n",
    "    plt.xlabel('Predicted')\n",
    "    plt.ylabel('True')\n",
    "    plt.tight_layout()\n",
    "    plt.show()"
   ]
  },
  {
   "cell_type": "code",
   "execution_count": null,
   "id": "a6f6208f",
   "metadata": {},
   "outputs": [],
   "source": [
    "def plot_confusion_matrix(cm, class_names, title):\n",
    "    plt.figure(figsize=(8, 6))\n",
    "    sns.heatmap(cm, annot=True, fmt='d', cmap='Blues',\n",
    "                xticklabels=class_names, yticklabels=class_names)\n",
    "    plt.title(f'Confusion Matrix - {title}')\n",
    "    plt.xlabel('Predicted')\n",
    "    plt.ylabel('True')\n",
    "    plt.tight_layout()\n",
    "    plt.show()"
   ]
  },
  {
   "cell_type": "code",
   "execution_count": null,
   "id": "f3438f1e",
   "metadata": {},
   "outputs": [],
   "source": [
    "def plot_training_curves(train_losses, val_accuracies, model_name):\n",
    "    epochs_range = range(1, len(train_losses) + 1)\n",
    "    plt.figure(figsize=(14, 5))\n",
    "\n",
    "    plt.subplot(1, 2, 1)\n",
    "    plt.plot(epochs_range, train_losses, marker='o', color='blue', label='Training Loss')\n",
    "    plt.title(f\"{model_name.upper()} - Training Loss\")\n",
    "    plt.xlabel(\"Epoch\")\n",
    "    plt.ylabel(\"Loss\")\n",
    "    plt.grid(True)\n",
    "    plt.legend()\n",
    "\n",
    "    plt.subplot(1, 2, 2)\n",
    "    plt.plot(epochs_range, val_accuracies, marker='x', color='green', label='Validation Accuracy')\n",
    "    plt.title(f\"{model_name.upper()} - Validation Accuracy\")\n",
    "    plt.xlabel(\"Epoch\")\n",
    "    plt.ylabel(\"Accuracy\")\n",
    "    plt.ylim(0, 1)\n",
    "    plt.grid(True)\n",
    "    plt.legend()\n",
    "\n",
    "    plt.tight_layout()\n",
    "    plt.show()\n",
    "\n"
   ]
  },
  {
   "cell_type": "code",
   "execution_count": null,
   "id": "c56a63d1",
   "metadata": {},
   "outputs": [],
   "source": [
    "# Plot final results\n",
    "plot_training_curves(train_losses, val_accuracies, best_model_name)\n",
    "plot_confusion_matrix(matrix, class_names, f\"{best_model_name} Transfer Learning - Final Epoch\")\n",
    "\n",
    "print(f\"\\nTransfer learning complete. Best validation accuracy: {best_acc:.4f}\\n\")"
   ]
  }
 ],
 "metadata": {
  "kernelspec": {
   "display_name": "Python 3",
   "language": "python",
   "name": "python3"
  },
  "language_info": {
   "name": "python",
   "version": "3.12.4"
  }
 },
 "nbformat": 4,
 "nbformat_minor": 5
}
