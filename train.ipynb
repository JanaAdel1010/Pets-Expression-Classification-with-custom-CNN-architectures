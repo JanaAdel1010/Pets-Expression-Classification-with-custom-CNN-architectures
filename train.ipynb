{
 "cells": [
  {
   "cell_type": "code",
   "execution_count": 1,
   "id": "dac237c2",
   "metadata": {},
   "outputs": [],
   "source": [
    "import torch\n",
    "import torch.nn as nn\n",
    "import torch.optim as optim\n",
    "from utils.dataset import get_dataloaders\n",
    "from utils.metrics import evaluate_model\n",
    "\n",
    "from models.vgg import CustomVGG\n",
    "from models.resnet import CustomResNet\n",
    "from models.mobilenet import CustomMobileNet\n",
    "from models.inception import CustomInception\n",
    "from models.densenet import CustomDenseNet\n",
    "import matplotlib.pyplot as plt\n",
    "\n",
    "device = torch.device('cuda' if torch.cuda.is_available() else 'cpu')\n"
   ]
  },
  {
   "cell_type": "code",
   "execution_count": 2,
   "id": "5dc5addc",
   "metadata": {},
   "outputs": [],
   "source": [
    "data_dir = r'C:\\School\\Term 8\\Computer vision\\Assignments\\4\\Pets\\Master Folder'\n",
    "train_loader, val_loader, class_names = get_dataloaders(data_dir)\n",
    "num_classes = len(class_names)\n"
   ]
  },
  {
   "cell_type": "code",
   "execution_count": 3,
   "id": "c17ec3f3",
   "metadata": {},
   "outputs": [],
   "source": [
    "model_map = {\n",
    "    'vgg': CustomVGG,\n",
    "    'resnet': CustomResNet,\n",
    "    'mobilenet': CustomMobileNet,\n",
    "    'inception': CustomInception,\n",
    "    'densenet': CustomDenseNet\n",
    "}\n",
    "model_name = 'resnet'  # Change to any: vgg, resnet, mobilenet, inception, densenet\n",
    "model = model_map[model_name](num_classes=num_classes).to(device)\n"
   ]
  },
  {
   "cell_type": "code",
   "execution_count": 4,
   "id": "a3cec97b",
   "metadata": {},
   "outputs": [
    {
     "name": "stdout",
     "output_type": "stream",
     "text": [
      "Epoch 1/10 - Loss: 49.4737\n",
      "\n",
      "Validation Report:\n",
      "\n",
      "              precision    recall  f1-score   support\n",
      "\n",
      "       Angry     0.5000    0.2222    0.3077         9\n",
      "       Other     0.1667    0.6667    0.2667         6\n",
      "         Sad     0.1667    0.1000    0.1250        10\n",
      "       happy     0.5000    0.0909    0.1538        11\n",
      "\n",
      "    accuracy                         0.2222        36\n",
      "   macro avg     0.3333    0.2699    0.2133        36\n",
      "weighted avg     0.3519    0.2222    0.2031        36\n",
      "\n",
      "Epoch 2/10 - Loss: 43.0916\n"
     ]
    },
    {
     "name": "stderr",
     "output_type": "stream",
     "text": [
      "c:\\Users\\janaa\\AppData\\Local\\Programs\\Python\\Python312\\Lib\\site-packages\\sklearn\\metrics\\_classification.py:1531: UndefinedMetricWarning: Precision is ill-defined and being set to 0.0 in labels with no predicted samples. Use `zero_division` parameter to control this behavior.\n",
      "  _warn_prf(average, modifier, f\"{metric.capitalize()} is\", len(result))\n",
      "c:\\Users\\janaa\\AppData\\Local\\Programs\\Python\\Python312\\Lib\\site-packages\\sklearn\\metrics\\_classification.py:1531: UndefinedMetricWarning: Precision is ill-defined and being set to 0.0 in labels with no predicted samples. Use `zero_division` parameter to control this behavior.\n",
      "  _warn_prf(average, modifier, f\"{metric.capitalize()} is\", len(result))\n",
      "c:\\Users\\janaa\\AppData\\Local\\Programs\\Python\\Python312\\Lib\\site-packages\\sklearn\\metrics\\_classification.py:1531: UndefinedMetricWarning: Precision is ill-defined and being set to 0.0 in labels with no predicted samples. Use `zero_division` parameter to control this behavior.\n",
      "  _warn_prf(average, modifier, f\"{metric.capitalize()} is\", len(result))\n"
     ]
    },
    {
     "name": "stdout",
     "output_type": "stream",
     "text": [
      "\n",
      "Validation Report:\n",
      "\n",
      "              precision    recall  f1-score   support\n",
      "\n",
      "       Angry     0.3636    0.4444    0.4000         9\n",
      "       Other     0.0000    0.0000    0.0000         6\n",
      "         Sad     0.1364    0.3000    0.1875        10\n",
      "       happy     0.0000    0.0000    0.0000        11\n",
      "\n",
      "    accuracy                         0.1944        36\n",
      "   macro avg     0.1250    0.1861    0.1469        36\n",
      "weighted avg     0.1288    0.1944    0.1521        36\n",
      "\n",
      "Epoch 3/10 - Loss: 43.4929\n",
      "\n",
      "Validation Report:\n",
      "\n",
      "              precision    recall  f1-score   support\n",
      "\n",
      "       Angry     0.3000    0.3333    0.3158         9\n",
      "       Other     0.1429    0.1667    0.1538         6\n",
      "         Sad     0.0000    0.0000    0.0000        10\n",
      "       happy     0.4667    0.6364    0.5385        11\n",
      "\n",
      "    accuracy                         0.3056        36\n",
      "   macro avg     0.2274    0.2841    0.2520        36\n",
      "weighted avg     0.2414    0.3056    0.2691        36\n",
      "\n",
      "Epoch 4/10 - Loss: 41.7349\n",
      "\n",
      "Validation Report:\n",
      "\n",
      "              precision    recall  f1-score   support\n",
      "\n",
      "       Angry     0.4000    0.2222    0.2857         9\n",
      "       Other     0.1429    0.1667    0.1538         6\n",
      "         Sad     0.1667    0.1000    0.1250        10\n",
      "       happy     0.2222    0.3636    0.2759        11\n",
      "\n",
      "    accuracy                         0.2222        36\n",
      "   macro avg     0.2329    0.2131    0.2101        36\n",
      "weighted avg     0.2380    0.2222    0.2161        36\n",
      "\n",
      "Epoch 5/10 - Loss: 41.6927\n",
      "\n",
      "Validation Report:\n",
      "\n",
      "              precision    recall  f1-score   support\n",
      "\n",
      "       Angry     1.0000    0.2222    0.3636         9\n",
      "       Other     0.0000    0.0000    0.0000         6\n",
      "         Sad     0.1429    0.1000    0.1176        10\n",
      "       happy     0.3462    0.8182    0.4865        11\n",
      "\n",
      "    accuracy                         0.3333        36\n",
      "   macro avg     0.3723    0.2851    0.2419        36\n",
      "weighted avg     0.3955    0.3333    0.2722        36\n",
      "\n",
      "Epoch 6/10 - Loss: 41.3311\n",
      "\n",
      "Validation Report:\n",
      "\n",
      "              precision    recall  f1-score   support\n",
      "\n",
      "       Angry     0.2000    0.1111    0.1429         9\n",
      "       Other     0.0000    0.0000    0.0000         6\n",
      "         Sad     0.2500    0.4000    0.3077        10\n",
      "       happy     0.5000    0.6364    0.5600        11\n",
      "\n",
      "    accuracy                         0.3333        36\n",
      "   macro avg     0.2375    0.2869    0.2526        36\n",
      "weighted avg     0.2722    0.3333    0.2923        36\n",
      "\n",
      "Epoch 7/10 - Loss: 41.1128\n"
     ]
    },
    {
     "name": "stderr",
     "output_type": "stream",
     "text": [
      "c:\\Users\\janaa\\AppData\\Local\\Programs\\Python\\Python312\\Lib\\site-packages\\sklearn\\metrics\\_classification.py:1531: UndefinedMetricWarning: Precision is ill-defined and being set to 0.0 in labels with no predicted samples. Use `zero_division` parameter to control this behavior.\n",
      "  _warn_prf(average, modifier, f\"{metric.capitalize()} is\", len(result))\n",
      "c:\\Users\\janaa\\AppData\\Local\\Programs\\Python\\Python312\\Lib\\site-packages\\sklearn\\metrics\\_classification.py:1531: UndefinedMetricWarning: Precision is ill-defined and being set to 0.0 in labels with no predicted samples. Use `zero_division` parameter to control this behavior.\n",
      "  _warn_prf(average, modifier, f\"{metric.capitalize()} is\", len(result))\n",
      "c:\\Users\\janaa\\AppData\\Local\\Programs\\Python\\Python312\\Lib\\site-packages\\sklearn\\metrics\\_classification.py:1531: UndefinedMetricWarning: Precision is ill-defined and being set to 0.0 in labels with no predicted samples. Use `zero_division` parameter to control this behavior.\n",
      "  _warn_prf(average, modifier, f\"{metric.capitalize()} is\", len(result))\n"
     ]
    },
    {
     "name": "stdout",
     "output_type": "stream",
     "text": [
      "\n",
      "Validation Report:\n",
      "\n",
      "              precision    recall  f1-score   support\n",
      "\n",
      "       Angry     0.2857    0.2222    0.2500         9\n",
      "       Other     0.0000    0.0000    0.0000         6\n",
      "         Sad     0.2500    0.4000    0.3077        10\n",
      "       happy     0.6154    0.7273    0.6667        11\n",
      "\n",
      "    accuracy                         0.3889        36\n",
      "   macro avg     0.2878    0.3374    0.3061        36\n",
      "weighted avg     0.3289    0.3889    0.3517        36\n",
      "\n",
      "Epoch 8/10 - Loss: 39.9360\n",
      "\n",
      "Validation Report:\n",
      "\n",
      "              precision    recall  f1-score   support\n",
      "\n",
      "       Angry     0.3333    0.6667    0.4444         9\n",
      "       Other     0.1818    0.3333    0.2353         6\n",
      "         Sad     0.1667    0.1000    0.1250        10\n",
      "       happy     1.0000    0.0909    0.1667        11\n",
      "\n",
      "    accuracy                         0.2778        36\n",
      "   macro avg     0.4205    0.2977    0.2429        36\n",
      "weighted avg     0.4655    0.2778    0.2360        36\n",
      "\n",
      "Epoch 9/10 - Loss: 39.5118\n",
      "\n",
      "Validation Report:\n",
      "\n",
      "              precision    recall  f1-score   support\n",
      "\n",
      "       Angry     0.2308    0.3333    0.2727         9\n",
      "       Other     0.0000    0.0000    0.0000         6\n",
      "         Sad     0.1667    0.1000    0.1250        10\n",
      "       happy     0.3571    0.4545    0.4000        11\n",
      "\n",
      "    accuracy                         0.2500        36\n",
      "   macro avg     0.1886    0.2220    0.1994        36\n",
      "weighted avg     0.2131    0.2500    0.2251        36\n",
      "\n",
      "Epoch 10/10 - Loss: 37.5309\n",
      "\n",
      "Validation Report:\n",
      "\n",
      "              precision    recall  f1-score   support\n",
      "\n",
      "       Angry     0.3333    0.3333    0.3333         9\n",
      "       Other     0.0000    0.0000    0.0000         6\n",
      "         Sad     0.2857    0.2000    0.2353        10\n",
      "       happy     0.4444    0.7273    0.5517        11\n",
      "\n",
      "    accuracy                         0.3611        36\n",
      "   macro avg     0.2659    0.3152    0.2801        36\n",
      "weighted avg     0.2985    0.3611    0.3173        36\n",
      "\n"
     ]
    }
   ],
   "source": [
    "epochs = 10\n",
    "criterion = nn.CrossEntropyLoss()\n",
    "optimizer = optim.Adam(model.parameters(), lr=1e-3)\n",
    "best_acc = 0\n",
    "train_losses = []\n",
    "\n",
    "for epoch in range(epochs):\n",
    "    model.train()\n",
    "    running_loss = 0.0\n",
    "    for imgs, labels in train_loader:\n",
    "        imgs, labels = imgs.to(device), labels.to(device)\n",
    "        optimizer.zero_grad()\n",
    "        outputs = model(imgs)\n",
    "        loss = criterion(outputs, labels)\n",
    "        loss.backward()\n",
    "        optimizer.step()\n",
    "        running_loss += loss.item()\n",
    "    train_losses.append(running_loss)\n",
    "    print(f\"Epoch {epoch+1}/{epochs} - Loss: {running_loss:.4f}\")\n",
    "    report, _ = evaluate_model(model, val_loader, device, class_names)\n",
    "    print(\"\\nValidation Report:\\n\")\n",
    "    print(report)"
   ]
  },
  {
   "cell_type": "code",
   "execution_count": 5,
   "id": "10ba7bf3",
   "metadata": {},
   "outputs": [
    {
     "name": "stdout",
     "output_type": "stream",
     "text": [
      "Model saved as best_model_resnet.pth\n"
     ]
    },
    {
     "data": {
      "image/png": "[encoded data removed]",
      "text/plain": [
       "<Figure size 640x480 with 1 Axes>"
      ]
     },
     "metadata": {},
     "output_type": "display_data"
    }
   ],
   "source": [
    "torch.save(model.state_dict(), f'best_model_{model_name}.pth')\n",
    "print(f\"Model saved as best_model_{model_name}.pth\")\n",
    "\n",
    "# 📈 6. Plot Loss Curve\n",
    "plt.plot(range(1, epochs+1), train_losses, marker='o')\n",
    "plt.title(f\"Training Loss - {model_name.upper()}\")\n",
    "plt.xlabel(\"Epoch\")\n",
    "plt.ylabel(\"Loss\")\n",
    "plt.grid(True)\n",
    "plt.show()"
   ]
  }
 ],
 "metadata": {
  "kernelspec": {
   "display_name": "Python 3",
   "language": "python",
   "name": "python3"
  },
  "language_info": {
   "codemirror_mode": {
    "name": "ipython",
    "version": 3
   },
   "file_extension": ".py",
   "mimetype": "text/x-python",
   "name": "python",
   "nbconvert_exporter": "python",
   "pygments_lexer": "ipython3",
   "version": "3.12.4"
  }
 },
 "nbformat": 4,
 "nbformat_minor": 5
}
